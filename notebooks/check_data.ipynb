{
 "cells": [
  {
   "metadata": {},
   "cell_type": "markdown",
   "source": "# 1. Raw Data Layer",
   "id": "9ff9f56d312d4290"
  },
  {
   "metadata": {},
   "cell_type": "markdown",
   "source": [
    "- **Description:** Store raw data as received from the source without any transformations. This serves as the immutable source of truth.\n",
    "- **Storage:** CSV files in a structured directory hierarchy"
   ],
   "id": "561c3a628aa6e2dc"
  },
  {
   "metadata": {
    "ExecuteTime": {
     "end_time": "2024-07-23T04:09:49.362350Z",
     "start_time": "2024-07-23T04:09:49.354722Z"
    }
   },
   "cell_type": "code",
   "source": [
    "from src.data_loader import DataLoader\n",
    "\n",
    "file_paths = [\n",
    "    \"../data/raw/NSW/2020/*.csv\",\n",
    "    \"../data/raw/NSW/2021/*.csv\",\n",
    "    \"../data/raw/NSW/2022/*.csv\",\n",
    "    \"../data/raw/NSW/2023/*.csv\",\n",
    "    \"../data/raw/NSW/2024/*.csv\"\n",
    "]\n",
    "data_loader = DataLoader()\n",
    "combined_df = data_loader.read_csv_files(file_paths)\n",
    "combined_df.show(truncate=False, n=5)"
   ],
   "id": "7352f04c1a8eefec",
   "outputs": [
    {
     "ename": "AttributeError",
     "evalue": "'DataLoader' object has no attribute 'read_csv_files'",
     "output_type": "error",
     "traceback": [
      "\u001B[0;31m---------------------------------------------------------------------------\u001B[0m",
      "\u001B[0;31mAttributeError\u001B[0m                            Traceback (most recent call last)",
      "Cell \u001B[0;32mIn[25], line 11\u001B[0m\n\u001B[1;32m      3\u001B[0m file_paths \u001B[38;5;241m=\u001B[39m [\n\u001B[1;32m      4\u001B[0m     \u001B[38;5;124m\"\u001B[39m\u001B[38;5;124mdata/raw/NSW/2020/PRICE_AND_DEMAND_202001_NSW1.csv\u001B[39m\u001B[38;5;124m\"\u001B[39m,\n\u001B[1;32m      5\u001B[0m     \u001B[38;5;66;03m# \"../data/raw/NSW/2021/*.csv\",\u001B[39;00m\n\u001B[0;32m   (...)\u001B[0m\n\u001B[1;32m      8\u001B[0m     \u001B[38;5;66;03m# \"../data/raw/NSW/2024/*.csv\"\u001B[39;00m\n\u001B[1;32m      9\u001B[0m ]\n\u001B[1;32m     10\u001B[0m data_loader \u001B[38;5;241m=\u001B[39m DataLoader()\n\u001B[0;32m---> 11\u001B[0m combined_df \u001B[38;5;241m=\u001B[39m \u001B[43mdata_loader\u001B[49m\u001B[38;5;241;43m.\u001B[39;49m\u001B[43mread_csv_files\u001B[49m(file_paths)\n\u001B[1;32m     12\u001B[0m combined_df\u001B[38;5;241m.\u001B[39mshow()\n",
      "\u001B[0;31mAttributeError\u001B[0m: 'DataLoader' object has no attribute 'read_csv_files'"
     ]
    }
   ],
   "execution_count": 25
  },
  {
   "metadata": {},
   "cell_type": "markdown",
   "source": "# 2. Staging Data Layer",
   "id": "7b547ab045bbc717"
  },
  {
   "metadata": {},
   "cell_type": "markdown",
   "source": [
    "- **Description:** In this layer, data is cleaned, validated, and transformed into a consistent format. It serves as an intermediary stage before further processing.\n",
    "- **Processing:** Use Apache Spark or Pandas to read CSV files, clean, and transform the data.\n",
    "- **Storage:** Store the cleaned and transformed data in Parquet files for efficient querying and processing."
   ],
   "id": "ac19a8b33fd9b8eb"
  },
  {
   "metadata": {
    "ExecuteTime": {
     "end_time": "2024-07-23T04:15:27.401504Z",
     "start_time": "2024-07-23T04:15:27.098418Z"
    }
   },
   "cell_type": "code",
   "source": [
    "from src.data_loader import DataLoader\n",
    "\n",
    "file_paths = [\n",
    "    \"../data/staging/NSW/2020/*.parquet\",\n",
    "    \"../data/staging/NSW/2021/*.parquet\",\n",
    "    \"../data/staging/NSW/2022/*.parquet\",\n",
    "    \"../data/staging/NSW/2023/*.parquet\",\n",
    "    \"../data/staging/NSW/2024/*.parquet\"\n",
    "]\n",
    "data_loader = DataLoader()\n",
    "combined_df = data_loader.read_parquet_files(file_paths)\n",
    "combined_df.show(truncate=False, n=5)\n",
    "# combined_df.printSchema()"
   ],
   "id": "d312badb68c7d0d8",
   "outputs": [
    {
     "name": "stdout",
     "output_type": "stream",
     "text": [
      "+------+-----------+-----+----------+----+\n",
      "|REGION|TOTALDEMAND|RRP  |PERIODTYPE|date|\n",
      "+------+-----------+-----+----------+----+\n",
      "|NSW1  |7286.8     |38.58|TRADE     |NULL|\n",
      "|NSW1  |7070.23    |38.44|TRADE     |NULL|\n",
      "|NSW1  |6938.4     |37.96|TRADE     |NULL|\n",
      "|NSW1  |6700.3     |37.84|TRADE     |NULL|\n",
      "|NSW1  |6406.33    |35.4 |TRADE     |NULL|\n",
      "+------+-----------+-----+----------+----+\n",
      "only showing top 5 rows\n",
      "\n"
     ]
    }
   ],
   "execution_count": 28
  },
  {
   "metadata": {},
   "cell_type": "markdown",
   "source": "# 3. Curated Data Layer",
   "id": "e03b52cb4d6eb5c9"
  },
  {
   "metadata": {},
   "cell_type": "markdown",
   "source": [
    "- **Description:** This layer stores data that has been further processed and enriched, optimized for consumption by analytics and machine learning models.\n",
    "- **Processing:** Perform aggregation, normalization, and feature engineering.\n",
    "- **Storage:** Store the curated data in Parquet files."
   ],
   "id": "9ee1463448d5d208"
  },
  {
   "metadata": {
    "ExecuteTime": {
     "end_time": "2024-07-23T04:16:33.017870Z",
     "start_time": "2024-07-23T04:16:32.763676Z"
    }
   },
   "cell_type": "code",
   "source": [
    "from src.data_loader import DataLoader\n",
    "\n",
    "file_paths = [\n",
    "    \"../data/curated/NSW/2020/*.parquet\",\n",
    "    \"../data/curated/NSW/2021/*.parquet\",\n",
    "    \"../data/curated/NSW/2022/*.parquet\",\n",
    "    \"../data/curated/NSW/2023/*.parquet\",\n",
    "    \"../data/curated/NSW/2024/*.parquet\"\n",
    "]\n",
    "data_loader = DataLoader()\n",
    "combined_df = data_loader.read_parquet_files(file_paths)\n",
    "combined_df.show(truncate=False, n=5)"
   ],
   "id": "e496bbb6daa4d66c",
   "outputs": [
    {
     "name": "stdout",
     "output_type": "stream",
     "text": [
      "+----+-----------------+------------------+--------------------+------------------+\n",
      "|date|avg_demand       |avg_rrp           |total_demand        |total_rrp         |\n",
      "+----+-----------------+------------------+--------------------+------------------+\n",
      "|NULL|8264.217157258077|152.30456317204286|1.229715513000002E7 |226629.18999999977|\n",
      "|NULL|7945.958994252869|57.50137212643676 |1.1060774919999994E7|80041.90999999997 |\n",
      "|NULL|7342.016155913984|46.16456989247321 |1.0924920040000008E7|68692.88000000014 |\n",
      "|NULL|7791.773219086021|41.94977822580641 |1.1594158549999999E7|62421.269999999946|\n",
      "|NULL|8690.303077956987|47.98088709677423 |1.2931170979999997E7|71395.56000000006 |\n",
      "+----+-----------------+------------------+--------------------+------------------+\n",
      "only showing top 5 rows\n",
      "\n"
     ]
    }
   ],
   "execution_count": 29
  },
  {
   "metadata": {},
   "cell_type": "markdown",
   "source": "# 4. Analytical Data Layer",
   "id": "c7fe7c8b574d095a"
  },
  {
   "metadata": {},
   "cell_type": "markdown",
   "source": [
    "- **Description:** This layer is optimized for direct querying and consumption by BI tools and dashboards.\n",
    "- **Processing:** Create views, precomputed aggregates, and indices for fast query performance.\n",
    "- **Storage:** Use Parquet files for efficient querying and analytics."
   ],
   "id": "88c990b24ee80d45"
  },
  {
   "metadata": {},
   "cell_type": "markdown",
   "source": "# 5. Machine Learning and Forecasting Layer",
   "id": "fb8e1e053821aab8"
  },
  {
   "metadata": {},
   "cell_type": "markdown",
   "source": [
    "- **Description:** This layer contains datasets specifically prepared for machine learning and forecasting models, including feature matrices and model predictions.\n",
    "- **Processing:** Feature engineering, train-test split, and normalization.\n",
    "- **Storage:** Store as Parquet files."
   ],
   "id": "260269b8f25c8d89"
  },
  {
   "metadata": {},
   "cell_type": "code",
   "outputs": [],
   "execution_count": null,
   "source": "",
   "id": "d1f0e782fc93b91b"
  }
 ],
 "metadata": {
  "kernelspec": {
   "display_name": "Python 3",
   "language": "python",
   "name": "python3"
  },
  "language_info": {
   "codemirror_mode": {
    "name": "ipython",
    "version": 2
   },
   "file_extension": ".py",
   "mimetype": "text/x-python",
   "name": "python",
   "nbconvert_exporter": "python",
   "pygments_lexer": "ipython2",
   "version": "2.7.6"
  }
 },
 "nbformat": 4,
 "nbformat_minor": 5
}
