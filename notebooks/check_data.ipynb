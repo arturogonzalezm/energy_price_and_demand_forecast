{
 "cells": [
  {
   "metadata": {},
   "cell_type": "markdown",
   "source": "# 1. Raw Data Layer",
   "id": "9ff9f56d312d4290"
  },
  {
   "metadata": {},
   "cell_type": "markdown",
   "source": [
    "- **Description:** Store raw data as received from the source without any transformations. This serves as the immutable source of truth.\n",
    "- **Storage:** CSV files in a structured directory hierarchy"
   ],
   "id": "561c3a628aa6e2dc"
  },
  {
   "metadata": {
    "ExecuteTime": {
     "end_time": "2024-07-23T04:09:49.362350Z",
     "start_time": "2024-07-23T04:09:49.354722Z"
    }
   },
   "cell_type": "code",
   "source": [
    "from src.data_loader import DataLoader\n",
    "\n",
    "file_paths = [\n",
    "    \"../data/raw/NSW/2020/*.csv\",\n",
    "    \"../data/raw/NSW/2021/*.csv\",\n",
    "    \"../data/raw/NSW/2022/*.csv\",\n",
    "    \"../data/raw/NSW/2023/*.csv\",\n",
    "    \"../data/raw/NSW/2024/*.csv\"\n",
    "]\n",
    "data_loader = DataLoader()\n",
    "combined_df = data_loader.read_csv_files(file_paths)\n",
    "combined_df.show(truncate=False, n=5)"
   ],
   "id": "7352f04c1a8eefec",
   "outputs": [
    {
     "ename": "AttributeError",
     "evalue": "'DataLoader' object has no attribute 'read_csv_files'",
     "output_type": "error",
     "traceback": [
      "\u001B[0;31m---------------------------------------------------------------------------\u001B[0m",
      "\u001B[0;31mAttributeError\u001B[0m                            Traceback (most recent call last)",
      "Cell \u001B[0;32mIn[25], line 11\u001B[0m\n\u001B[1;32m      3\u001B[0m file_paths \u001B[38;5;241m=\u001B[39m [\n\u001B[1;32m      4\u001B[0m     \u001B[38;5;124m\"\u001B[39m\u001B[38;5;124mdata/raw/NSW/2020/PRICE_AND_DEMAND_202001_NSW1.csv\u001B[39m\u001B[38;5;124m\"\u001B[39m,\n\u001B[1;32m      5\u001B[0m     \u001B[38;5;66;03m# \"../data/raw/NSW/2021/*.csv\",\u001B[39;00m\n\u001B[0;32m   (...)\u001B[0m\n\u001B[1;32m      8\u001B[0m     \u001B[38;5;66;03m# \"../data/raw/NSW/2024/*.csv\"\u001B[39;00m\n\u001B[1;32m      9\u001B[0m ]\n\u001B[1;32m     10\u001B[0m data_loader \u001B[38;5;241m=\u001B[39m DataLoader()\n\u001B[0;32m---> 11\u001B[0m combined_df \u001B[38;5;241m=\u001B[39m \u001B[43mdata_loader\u001B[49m\u001B[38;5;241;43m.\u001B[39;49m\u001B[43mread_csv_files\u001B[49m(file_paths)\n\u001B[1;32m     12\u001B[0m combined_df\u001B[38;5;241m.\u001B[39mshow()\n",
      "\u001B[0;31mAttributeError\u001B[0m: 'DataLoader' object has no attribute 'read_csv_files'"
     ]
    }
   ],
   "execution_count": 25
  },
  {
   "metadata": {},
   "cell_type": "markdown",
   "source": "# 2. Staging Data Layer",
   "id": "7b547ab045bbc717"
  },
  {
   "metadata": {},
   "cell_type": "markdown",
   "source": [
    "- **Description:** In this layer, data is cleaned, validated, and transformed into a consistent format. It serves as an intermediary stage before further processing.\n",
    "- **Processing:** Use Apache Spark or Pandas to read CSV files, clean, and transform the data.\n",
    "- **Storage:** Store the cleaned and transformed data in Parquet files for efficient querying and processing."
   ],
   "id": "ac19a8b33fd9b8eb"
  },
  {
   "metadata": {
    "ExecuteTime": {
     "end_time": "2024-07-23T04:33:55.708672Z",
     "start_time": "2024-07-23T04:33:55.397261Z"
    }
   },
   "cell_type": "code",
   "source": [
    "from src.data_loader import DataLoader\n",
    "\n",
    "file_paths = [\n",
    "    \"../data/staging/NSW/2020/*.parquet\",\n",
    "    \"../data/staging/NSW/2021/*.parquet\",\n",
    "    \"../data/staging/NSW/2022/*.parquet\",\n",
    "    \"../data/staging/NSW/2023/*.parquet\",\n",
    "    \"../data/staging/NSW/2024/*.parquet\"\n",
    "]\n",
    "data_loader = DataLoader()\n",
    "combined_df = data_loader.read_parquet_files(file_paths)\n",
    "combined_df.show(truncate=False, n=5)\n",
    "# combined_df.printSchema()"
   ],
   "id": "d312badb68c7d0d8",
   "outputs": [
    {
     "name": "stdout",
     "output_type": "stream",
     "text": [
      "+------+-----------+-----+----------+-------------------+\n",
      "|REGION|TOTALDEMAND|RRP  |PERIODTYPE|date               |\n",
      "+------+-----------+-----+----------+-------------------+\n",
      "|NSW1  |7134.15    |48.84|TRADE     |2020-01-01 00:30:00|\n",
      "|NSW1  |6886.14    |50.46|TRADE     |2020-01-01 01:00:00|\n",
      "|NSW1  |6682.01    |48.73|TRADE     |2020-01-01 01:30:00|\n",
      "|NSW1  |6452.46    |48.92|TRADE     |2020-01-01 02:00:00|\n",
      "|NSW1  |6286.89    |49.49|TRADE     |2020-01-01 02:30:00|\n",
      "+------+-----------+-----+----------+-------------------+\n",
      "only showing top 5 rows\n",
      "\n"
     ]
    }
   ],
   "execution_count": 37
  },
  {
   "metadata": {},
   "cell_type": "markdown",
   "source": "# 3. Curated Data Layer",
   "id": "e03b52cb4d6eb5c9"
  },
  {
   "metadata": {},
   "cell_type": "markdown",
   "source": [
    "- **Description:** This layer stores data that has been further processed and enriched, optimized for consumption by analytics and machine learning models.\n",
    "- **Processing:** Perform aggregation, normalization, and feature engineering.\n",
    "- **Storage:** Store the curated data in Parquet files."
   ],
   "id": "9ee1463448d5d208"
  },
  {
   "metadata": {
    "ExecuteTime": {
     "end_time": "2024-07-23T04:34:02.629076Z",
     "start_time": "2024-07-23T04:34:02.239999Z"
    }
   },
   "cell_type": "code",
   "source": [
    "from src.data_loader import DataLoader\n",
    "\n",
    "file_paths = [\n",
    "    \"../data/curated/NSW/2020/*.parquet\",\n",
    "    \"../data/curated/NSW/2021/*.parquet\",\n",
    "    \"../data/curated/NSW/2022/*.parquet\",\n",
    "    \"../data/curated/NSW/2023/*.parquet\",\n",
    "    \"../data/curated/NSW/2024/*.parquet\"\n",
    "]\n",
    "data_loader = DataLoader()\n",
    "combined_df = data_loader.read_parquet_files(file_paths)\n",
    "combined_df.show(truncate=False, n=5)"
   ],
   "id": "e496bbb6daa4d66c",
   "outputs": [
    {
     "name": "stdout",
     "output_type": "stream",
     "text": [
      "+-------------------+----------+-------+------------+---------+\n",
      "|date               |avg_demand|avg_rrp|total_demand|total_rrp|\n",
      "+-------------------+----------+-------+------------+---------+\n",
      "|2020-01-01 07:00:00|6125.52   |32.66  |6125.52     |32.66    |\n",
      "|2020-01-01 10:00:00|6424.01   |12.92  |6424.01     |12.92    |\n",
      "|2020-01-04 03:00:00|6536.29   |45.37  |6536.29     |45.37    |\n",
      "|2020-01-07 07:30:00|7809.8    |49.46  |7809.8      |49.46    |\n",
      "|2020-01-09 01:30:00|6692.62   |37.5   |6692.62     |37.5     |\n",
      "+-------------------+----------+-------+------------+---------+\n",
      "only showing top 5 rows\n",
      "\n"
     ]
    }
   ],
   "execution_count": 38
  },
  {
   "metadata": {},
   "cell_type": "markdown",
   "source": "# 4. Analytical Data Layer",
   "id": "c7fe7c8b574d095a"
  },
  {
   "metadata": {},
   "cell_type": "markdown",
   "source": [
    "- **Description:** This layer is optimized for direct querying and consumption by BI tools and dashboards.\n",
    "- **Processing:** Create views, precomputed aggregates, and indices for fast query performance.\n",
    "- **Storage:** Use Parquet files for efficient querying and analytics."
   ],
   "id": "88c990b24ee80d45"
  },
  {
   "metadata": {
    "ExecuteTime": {
     "end_time": "2024-07-23T04:34:43.390326Z",
     "start_time": "2024-07-23T04:34:43.041738Z"
    }
   },
   "cell_type": "code",
   "source": [
    "from src.data_loader import DataLoader\n",
    "\n",
    "file_paths = [\n",
    "    \"../data/analytical/NSW/2020/*.parquet\",\n",
    "    \"../data/analytical/NSW/2021/*.parquet\",\n",
    "    \"../data/analytical/NSW/2022/*.parquet\",\n",
    "    \"../data/analytical/NSW/2023/*.parquet\",\n",
    "    \"../data/analytical/NSW/2024/*.parquet\"\n",
    "]\n",
    "data_loader = DataLoader()\n",
    "combined_df = data_loader.read_parquet_files(file_paths)\n",
    "combined_df.show(truncate=False, n=5)"
   ],
   "id": "a39bec6f636c85f3",
   "outputs": [
    {
     "name": "stdout",
     "output_type": "stream",
     "text": [
      "+-------------------+------------------+---------------+--------------------+-----------------+\n",
      "|date               |monthly_avg_demand|monthly_avg_rrp|monthly_total_demand|monthly_total_rrp|\n",
      "+-------------------+------------------+---------------+--------------------+-----------------+\n",
      "|2020-01-01 07:00:00|6125.52           |32.66          |6125.52             |32.66            |\n",
      "|2020-01-01 10:00:00|6424.01           |12.92          |6424.01             |12.92            |\n",
      "|2020-01-04 03:00:00|6536.29           |45.37          |6536.29             |45.37            |\n",
      "|2020-01-07 07:30:00|7809.8            |49.46          |7809.8              |49.46            |\n",
      "|2020-01-09 01:30:00|6692.62           |37.5           |6692.62             |37.5             |\n",
      "+-------------------+------------------+---------------+--------------------+-----------------+\n",
      "only showing top 5 rows\n",
      "\n"
     ]
    }
   ],
   "execution_count": 39
  },
  {
   "metadata": {},
   "cell_type": "markdown",
   "source": "# 5. Machine Learning and Forecasting Layer",
   "id": "fb8e1e053821aab8"
  },
  {
   "metadata": {},
   "cell_type": "markdown",
   "source": [
    "- **Description:** This layer contains datasets specifically prepared for machine learning and forecasting models, including feature matrices and model predictions.\n",
    "- **Processing:** Feature engineering, train-test split, and normalization.\n",
    "- **Storage:** Store as Parquet files."
   ],
   "id": "260269b8f25c8d89"
  },
  {
   "metadata": {
    "ExecuteTime": {
     "end_time": "2024-07-23T05:02:57.969620Z",
     "start_time": "2024-07-23T05:02:57.708605Z"
    }
   },
   "cell_type": "code",
   "source": [
    "from src.data_loader import DataLoader\n",
    "\n",
    "file_paths = [\n",
    "    # \"../data/ml_forecasting/NSW/2020/*.parquet\",\n",
    "    # \"../data/ml_forecasting/NSW/2021/*.parquet\",\n",
    "    # \"../data/ml_forecasting/NSW/2022/*.parquet\",\n",
    "    \"../data/ml_forecasting/NSW/2023/*.parquet\",\n",
    "    # \"../data/ml_forecasting/NSW/2024/*.parquet\"\n",
    "]\n",
    "data_loader = DataLoader()\n",
    "combined_df = data_loader.read_parquet_files(file_paths)\n",
    "combined_df.show(truncate=False, n=5)"
   ],
   "id": "d1f0e782fc93b91b",
   "outputs": [
    {
     "name": "stdout",
     "output_type": "stream",
     "text": [
      "+------+-------+-----------------+-----------------+-------------------+-----------------+-----------------+---------------------------------------------------------------------------------------------+-----------------+\n",
      "|REGION|quarter|avg_demand       |label            |total_demand       |total_rrp        |demand_rrp_ratio |features                                                                                     |prediction       |\n",
      "+------+-------+-----------------+-----------------+-------------------+-----------------+-----------------+---------------------------------------------------------------------------------------------+-----------------+\n",
      "|NSW   |1      |7643.787197420617|90.12909598214287|6.163949995999986E7|726801.0300000001|84.80931839075662|[7643.787197420617,90.12909598214287,6.163949995999986E7,726801.0300000001,84.80931839075662]|90.12909598214287|\n",
      "+------+-------+-----------------+-----------------+-------------------+-----------------+-----------------+---------------------------------------------------------------------------------------------+-----------------+\n",
      "\n"
     ]
    }
   ],
   "execution_count": 41
  },
  {
   "metadata": {},
   "cell_type": "code",
   "outputs": [],
   "execution_count": null,
   "source": "",
   "id": "2de083071e76e933"
  }
 ],
 "metadata": {
  "kernelspec": {
   "display_name": "Python 3",
   "language": "python",
   "name": "python3"
  },
  "language_info": {
   "codemirror_mode": {
    "name": "ipython",
    "version": 2
   },
   "file_extension": ".py",
   "mimetype": "text/x-python",
   "name": "python",
   "nbconvert_exporter": "python",
   "pygments_lexer": "ipython2",
   "version": "2.7.6"
  }
 },
 "nbformat": 4,
 "nbformat_minor": 5
}
