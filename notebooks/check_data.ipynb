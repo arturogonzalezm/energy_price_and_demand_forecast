{
 "cells": [
  {
   "metadata": {},
   "cell_type": "markdown",
   "source": "# 1. Raw Data Layer",
   "id": "9ff9f56d312d4290"
  },
  {
   "metadata": {},
   "cell_type": "markdown",
   "source": [
    "- **Description:** Store raw data as received from the source without any transformations. This serves as the immutable source of truth.\n",
    "- **Storage:** CSV files in a structured directory hierarchy"
   ],
   "id": "561c3a628aa6e2dc"
  },
  {
   "metadata": {},
   "cell_type": "markdown",
   "source": "# 2. Staging Data Layer",
   "id": "7b547ab045bbc717"
  },
  {
   "metadata": {},
   "cell_type": "markdown",
   "source": [
    "- **Description:** In this layer, data is cleaned, validated, and transformed into a consistent format. It serves as an intermediary stage before further processing.\n",
    "- **Processing:** Use Apache Spark or Pandas to read CSV files, clean, and transform the data.\n",
    "- **Storage:** Store the cleaned and transformed data in Parquet files for efficient querying and processing."
   ],
   "id": "ac19a8b33fd9b8eb"
  },
  {
   "metadata": {
    "ExecuteTime": {
     "end_time": "2024-07-23T08:17:01.267440Z",
     "start_time": "2024-07-23T08:17:01.137539Z"
    }
   },
   "cell_type": "code",
   "source": [
    "from src.data_processing.data_loader import DataLoader\n",
    "\n",
    "file_paths = [\n",
    "    \"../data/staging/NSW/2020/*.parquet\",\n",
    "    # \"../data/staging/NSW/2021/*.parquet\",\n",
    "    # \"../data/staging/NSW/2022/*.parquet\",\n",
    "    # \"../data/staging/NSW/2023/*.parquet\",\n",
    "    # \"../data/staging/NSW/2024/*.parquet\"\n",
    "]\n",
    "data_loader = DataLoader()\n",
    "combined_df = data_loader.read_parquet_files(file_paths)\n",
    "combined_df.show(truncate=False, n=5)\n",
    "# combined_df.printSchema()"
   ],
   "id": "d312badb68c7d0d8",
   "outputs": [
    {
     "name": "stdout",
     "output_type": "stream",
     "text": [
      "+------+-----------+-----+----------+-------------------+-----------------+--------+-------------------+------------------+\n",
      "|REGION|TOTALDEMAND|RRP  |PERIODTYPE|date               |prev_total_demand|prev_rrp|demand_diff        |rrp_diff          |\n",
      "+------+-----------+-----+----------+-------------------+-----------------+--------+-------------------+------------------+\n",
      "|NSW1  |8581.98    |48.87|TRADE     |2020-08-01 00:30:00|NULL             |NULL    |NULL               |NULL              |\n",
      "|NSW1  |8366.86    |40.79|TRADE     |2020-08-01 01:00:00|8581.98          |48.87   |-215.11999999999898|-8.079999999999998|\n",
      "|NSW1  |8134.4     |41.55|TRADE     |2020-08-01 01:30:00|8366.86          |40.79   |-232.46000000000095|0.759999999999998 |\n",
      "|NSW1  |7811.92    |44.61|TRADE     |2020-08-01 02:00:00|8134.4           |41.55   |-322.47999999999956|3.0600000000000023|\n",
      "|NSW1  |7469.27    |48.47|TRADE     |2020-08-01 02:30:00|7811.92          |44.61   |-342.64999999999964|3.8599999999999994|\n",
      "+------+-----------+-----+----------+-------------------+-----------------+--------+-------------------+------------------+\n",
      "only showing top 5 rows\n",
      "\n"
     ]
    }
   ],
   "execution_count": 52
  },
  {
   "metadata": {},
   "cell_type": "markdown",
   "source": "# 3. Curated Data Layer",
   "id": "e03b52cb4d6eb5c9"
  },
  {
   "metadata": {},
   "cell_type": "markdown",
   "source": [
    "- **Description:** This layer stores data that has been further processed and enriched, optimized for consumption by analytics and machine learning models.\n",
    "- **Processing:** Perform aggregation, normalization, and feature engineering.\n",
    "- **Storage:** Store the curated data in Parquet files."
   ],
   "id": "9ee1463448d5d208"
  },
  {
   "metadata": {
    "ExecuteTime": {
     "end_time": "2024-07-23T08:17:08.035551Z",
     "start_time": "2024-07-23T08:17:07.874984Z"
    }
   },
   "cell_type": "code",
   "source": [
    "from src.data_processing.data_loader import DataLoader\n",
    "\n",
    "file_paths = [\n",
    "    \"../data/curated/NSW/2020/*.parquet\",\n",
    "    # \"../data/curated/NSW/2021/*.parquet\",\n",
    "    # \"../data/curated/NSW/2022/*.parquet\",\n",
    "    # \"../data/curated/NSW/2023/*.parquet\",\n",
    "    # \"../data/curated/NSW/2024/*.parquet\"\n",
    "]\n",
    "data_loader = DataLoader()\n",
    "combined_df = data_loader.read_parquet_files(file_paths)\n",
    "combined_df.show(truncate=False, n=5)"
   ],
   "id": "e496bbb6daa4d66c",
   "outputs": [
    {
     "name": "stdout",
     "output_type": "stream",
     "text": [
      "+-------------------+----------+-------+------------+---------+------------------+\n",
      "|date               |avg_demand|avg_rrp|total_demand|total_rrp|demand_rrp_ratio  |\n",
      "+-------------------+----------+-------+------------+---------+------------------+\n",
      "|2020-01-01 07:00:00|6125.52   |32.66  |6125.52     |32.66    |187.55419473361914|\n",
      "|2020-01-01 10:00:00|6424.01   |12.92  |6424.01     |12.92    |497.2143962848297 |\n",
      "|2020-01-04 03:00:00|6536.29   |45.37  |6536.29     |45.37    |144.06634339872164|\n",
      "|2020-01-07 07:30:00|7809.8    |49.46  |7809.8      |49.46    |157.90133441164576|\n",
      "|2020-01-09 01:30:00|6692.62   |37.5   |6692.62     |37.5     |178.46986666666666|\n",
      "+-------------------+----------+-------+------------+---------+------------------+\n",
      "only showing top 5 rows\n",
      "\n"
     ]
    }
   ],
   "execution_count": 53
  },
  {
   "metadata": {},
   "cell_type": "markdown",
   "source": "# 4. Analytical Data Layer",
   "id": "c7fe7c8b574d095a"
  },
  {
   "metadata": {},
   "cell_type": "markdown",
   "source": [
    "- **Description:** This layer is optimized for direct querying, anomaly detection and consumption by BI tools and dashboards.\n",
    "- **Processing:** Create views, precomputed aggregates, and indices for fast query performance.\n",
    "- **Storage:** Use Parquet files for efficient querying and analytics."
   ],
   "id": "88c990b24ee80d45"
  },
  {
   "metadata": {
    "ExecuteTime": {
     "end_time": "2024-07-25T01:36:07.089631Z",
     "start_time": "2024-07-25T01:36:06.918220Z"
    }
   },
   "cell_type": "code",
   "source": [
    "from src.data_processing.data_loader import DataLoader\n",
    "\n",
    "file_paths = [\n",
    "    \"../data/analytical/NSW/2020/*.parquet\",\n",
    "    # \"../data/analytical/NSW/2021/*.parquet\",\n",
    "    # \"../data/analytical/NSW/2022/*.parquet\",\n",
    "    # \"../data/analytical/NSW/2023/*.parquet\",\n",
    "    # \"../data/analytical/NSW/2024/*.parquet\"\n",
    "]\n",
    "data_loader = DataLoader()\n",
    "combined_df = data_loader.read_parquet_files(file_paths)\n",
    "combined_df.show(truncate=False, n=5)"
   ],
   "id": "a39bec6f636c85f3",
   "outputs": [
    {
     "name": "stdout",
     "output_type": "stream",
     "text": [
      "+-------------------+------------------+---------------+--------------------+-----------------+------------------+------------------+------------------+-------------------+----------+\n",
      "|date               |monthly_avg_demand|monthly_avg_rrp|monthly_total_demand|monthly_total_rrp|demand_rrp_ratio  |mean_ratio        |stddev_ratio      |z_score            |is_anomaly|\n",
      "+-------------------+------------------+---------------+--------------------+-----------------+------------------+------------------+------------------+-------------------+----------+\n",
      "|2020-01-01 00:30:00|7134.15           |48.84          |7134.15             |48.84            |146.0718673218673 |146.0718673218673 |NULL              |NULL               |NULL      |\n",
      "|2020-01-01 01:00:00|6886.14           |50.46          |6886.14             |50.46            |136.46730083234246|141.26958407710487|6.7914540951000895|-0.7071067811865455|false     |\n",
      "|2020-01-01 01:30:00|6682.01           |48.73          |6682.01             |48.73            |137.1231274368972 |139.88743186370232|5.365907060876721 |-0.5151606979852299|false     |\n",
      "|2020-01-01 02:00:00|6452.46           |48.92          |6452.46             |48.92            |131.89820114472607|137.89012418395825|5.9289339340421225|-1.0106240187343614|false     |\n",
      "|2020-01-01 02:30:00|6286.89           |49.49          |6286.89             |49.49            |127.03354212972317|135.71880777311122|7.066630595676059 |-1.229053298569534 |false     |\n",
      "+-------------------+------------------+---------------+--------------------+-----------------+------------------+------------------+------------------+-------------------+----------+\n",
      "only showing top 5 rows\n",
      "\n"
     ]
    }
   ],
   "execution_count": 4
  },
  {
   "metadata": {},
   "cell_type": "markdown",
   "source": "# 5. Machine Learning and Forecasting Layer",
   "id": "fb8e1e053821aab8"
  },
  {
   "metadata": {},
   "cell_type": "markdown",
   "source": [
    "- **Description:** This layer contains datasets specifically prepared for machine learning and forecasting models, including feature matrices and model predictions.\n",
    "- **Processing:** Feature engineering, train-test split, and normalization.\n",
    "- **Storage:** Store as Parquet files."
   ],
   "id": "260269b8f25c8d89"
  },
  {
   "metadata": {},
   "cell_type": "code",
   "outputs": [],
   "execution_count": null,
   "source": "",
   "id": "2de083071e76e933"
  }
 ],
 "metadata": {
  "kernelspec": {
   "display_name": "Python 3",
   "language": "python",
   "name": "python3"
  },
  "language_info": {
   "codemirror_mode": {
    "name": "ipython",
    "version": 2
   },
   "file_extension": ".py",
   "mimetype": "text/x-python",
   "name": "python",
   "nbconvert_exporter": "python",
   "pygments_lexer": "ipython2",
   "version": "2.7.6"
  }
 },
 "nbformat": 4,
 "nbformat_minor": 5
}
